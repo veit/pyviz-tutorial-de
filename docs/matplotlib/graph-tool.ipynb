{
 "cells": [
  {
   "cell_type": "markdown",
   "id": "fe3ccc19",
   "metadata": {},
   "source": [
    "# graph-tool\n",
    "\n",
    "[graph-tool](https://graph-tool.skewed.de/) stellt eine Graph-Klasse und mehrere Algorithmen zur Verfügung, die mit ihr arbeiten. Die Interna dieser Klasse und der meisten Algorithmen sind aus Leistungsgründen in C++ geschrieben und verwenden die [Boost Graph Library](https://www.boost.org)."
   ]
  },
  {
   "cell_type": "markdown",
   "id": "bc1f8a93",
   "metadata": {},
   "source": [
    "## Installation\n",
    "\n",
    "graph-tool ist eine in Python verpackte C++-Bibliothek mit vielen C++-Abhängigkeiten wie [Boost](https://www.boost.org), [CGAL](https://www.cgal.org) und [expat](https://libexpat.github.io). Daher lässt sich  graph-tool am einfachsten installieren mit einem Paketmanager für Linux-Distributionen und macOS:\n",
    "\n",
    "### Linux\n",
    "\n",
    "Für Debian oder Ubuntu könnt ihr die folgende Zeile zu eurer `/etc/apt/sources.list` hinzufügen:\n",
    "\n",
    "```\n",
    "deb [arch=amd64] https://downloads.skewed.de/apt DISTRIBUTION main\n",
    "```\n",
    "wobei `DISTRIBUTION` einer der folgenden Werte sein kann:\n",
    "```\n",
    "bullseye, buster, sid, bionic, eoan, focal, groovy\n",
    "```\n",
    "Anschließend solltet ihr den öffentlichen Schlüssel [612DEFB798507F25](https://keys.openpgp.org/search?q=612DEFB798507F25) herunterladen, um die Pakete mit dem folgenden Befehl zu überprüfen:\n",
    "\n",
    "``` bash\n",
    "$ apt-key adv --keyserver keys.openpgp.org --recv-key 612DEFB798507F25\n",
    "```\n",
    "\n",
    "Nach dem Ausführen von `apt update` kann das Paket installiert werden mit\n",
    "\n",
    "``` bash\n",
    "$ apt install python3-graph-tool\n",
    "```\n",
    "\n",
    "### macOS\n",
    "\n",
    "Mit [Homebrew](https://brew.sh/) ist die Installation ebenfalls unkompliziert:\n",
    "\n",
    "``` bash\n",
    "$ brew install graph-tool\n",
    "```\n",
    "\n",
    "Anschließend müssen wir dem Python-Interpreter noch mitteilen, wo er `graph-tool` finden kann:\n",
    "\n",
    "``` bash\n",
    "$ export PYTHONPATH=\"$PYTHONPATH:/usr/local/Cellar/graph-tool/2.43/lib/python3.9/site-packages\"\n",
    "```"
   ]
  },
  {
   "cell_type": "markdown",
   "id": "37efd152",
   "metadata": {},
   "source": [
    "### Testen der Installation"
   ]
  },
  {
   "cell_type": "code",
   "execution_count": 1,
   "id": "08e6ea3d",
   "metadata": {},
   "outputs": [],
   "source": [
    "from graph_tool.all import *"
   ]
  },
  {
   "cell_type": "markdown",
   "id": "88f81a8a",
   "metadata": {},
   "source": [
    "## Erstellen und Manipulieren von Graphen\n",
    "\n",
    "Ein leerer Graph kann durch Instanziierung einer Graph-Klasse erstellt werden:"
   ]
  },
  {
   "cell_type": "code",
   "execution_count": 2,
   "id": "3872c84f",
   "metadata": {},
   "outputs": [],
   "source": [
    "g = Graph()"
   ]
  },
  {
   "cell_type": "markdown",
   "id": "f12cc83e",
   "metadata": {},
   "source": [
    "Ein Graph kann mit der Methode [set_directed()](https://graph-tool.skewed.de/static/doc/autosummary/graph_tool.Graph.html#graph_tool.Graph.set_directed) jederzeit von gerichtet auf ungerichtet umgestellt werden. Dabei kann die Richtung des Graphen mit der Methode [is_directed()](https://graph-tool.skewed.de/static/doc/autosummary/graph_tool.Graph.html#graph_tool.Graph.is_directed) abgefragt werden:"
   ]
  },
  {
   "cell_type": "code",
   "execution_count": 3,
   "id": "0a25db83",
   "metadata": {},
   "outputs": [],
   "source": [
    "ug = Graph()\n",
    "ug.set_directed(False)\n",
    "assert ug.is_directed() == False"
   ]
  },
  {
   "cell_type": "markdown",
   "id": "ea48046c",
   "metadata": {},
   "source": [
    "Sobald ein Graph erstellt ist, kann er mit Knoten und Kanten gefüllt werden. Ein Knoten kann mit der Methode [add_vertex()](https://graph-tool.skewed.de/static/doc/autosummary/graph_tool.Graph.html#graph_tool.Graph.add_vertex) hinzugefügt werden, die eine Instanz einer [Vertex](https://graph-tool.skewed.de/static/doc/autosummary/graph_tool.Vertex.html)-Klasse, auch *vertex descriptor* genannt, zurückgibt. Der folgende Code erstellt beispielsweise zwei Knoten und gibt *vertex descriptors* zurück, die in den Variablen `v1` und `v2` gespeichert sind:"
   ]
  },
  {
   "cell_type": "code",
   "execution_count": 4,
   "id": "91d2b7e2",
   "metadata": {},
   "outputs": [],
   "source": [
    "v1 = g.add_vertex()\n",
    "v2 = g.add_vertex()"
   ]
  },
  {
   "cell_type": "code",
   "execution_count": 5,
   "id": "46575a65",
   "metadata": {},
   "outputs": [],
   "source": [
    "e = g.add_edge(v1, v2)"
   ]
  },
  {
   "cell_type": "code",
   "execution_count": 6,
   "id": "e3294c6b",
   "metadata": {},
   "outputs": [
    {
     "data": {
      "text/plain": [
       "<VertexPropertyMap object with value type 'vector<double>', for Graph 0x1814b13d0, at 0x181ea0520>"
      ]
     },
     "execution_count": 6,
     "metadata": {},
     "output_type": "execute_result"
    }
   ],
   "source": [
    "graph_draw(g, vertex_text=g.vertex_index, output=\"two-nodes.svg\")"
   ]
  },
  {
   "cell_type": "code",
   "execution_count": 7,
   "id": "a551f87f",
   "metadata": {},
   "outputs": [
    {
     "data": {
      "image/svg+xml": [
       "<svg xmlns=\"http://www.w3.org/2000/svg\" xmlns:xlink=\"http://www.w3.org/1999/xlink\" width=\"1200pt\" height=\"1200pt\" viewBox=\"0 0 1200 1200\" version=\"1.2\">\n",
       "<defs>\n",
       "<g>\n",
       "<symbol overflow=\"visible\" id=\"glyph0-0\">\n",
       "<path style=\"stroke:none;\" d=\"M 2.34375 0 L 2.34375 -96.242188 L 101.640625 -96.242188 L 101.640625 0 Z M 88.570312 -13.070312 L 88.570312 -83.171875 L 15.414062 -83.171875 L 15.414062 -13.070312 Z M 88.570312 -13.070312 \"/>\n",
       "</symbol>\n",
       "<symbol overflow=\"visible\" id=\"glyph0-1\">\n",
       "<path style=\"stroke:none;\" d=\"M 34.804688 -2.628906 C 41.765625 -2.628906 46.546875 -6.441406 49.148438 -14.0625 C 51.753906 -21.6875 53.058594 -32.71875 53.058594 -47.160156 C 53.058594 -58.667969 52.277344 -67.855469 50.710938 -74.71875 C 47.777344 -87.503906 42.285156 -93.898438 34.234375 -93.898438 C 26.183594 -93.898438 20.667969 -87.316406 17.6875 -74.152344 C 16.125 -67.144531 15.339844 -57.910156 15.339844 -46.453125 C 15.339844 -35.703125 16.148438 -27.109375 17.757812 -20.667969 C 20.789062 -8.640625 26.46875 -2.628906 34.804688 -2.628906 Z M 34.589844 -97.730469 C 45.480469 -97.730469 53.933594 -92.027344 59.945312 -80.613281 C 64.726562 -71.382812 67.121094 -60.773438 67.121094 -48.796875 C 67.121094 -39.371094 65.652344 -30.492188 62.714844 -22.160156 C 57.175781 -6.488281 47.585938 1.347656 33.949219 1.347656 C 24.621094 1.347656 16.953125 -2.886719 10.9375 -11.363281 C 4.5 -20.40625 1.277344 -32.695312 1.277344 -48.226562 C 1.277344 -60.441406 3.433594 -70.957031 7.742188 -79.761719 C 13.566406 -91.742188 22.515625 -97.730469 34.589844 -97.730469 Z M 34.589844 -97.730469 \"/>\n",
       "</symbol>\n",
       "<symbol overflow=\"visible\" id=\"glyph0-2\">\n",
       "<path style=\"stroke:none;\" d=\"M 43.042969 -97.589844 C 43.230469 -97.351562 43.339844 -97.175781 43.363281 -97.058594 C 43.386719 -96.941406 43.398438 -96.667969 43.398438 -96.242188 L 43.398438 -10.726562 C 43.398438 -7.078125 44.367188 -4.757812 46.308594 -3.765625 C 48.25 -2.769531 51.871094 -2.179688 57.175781 -1.988281 L 57.175781 0 L 17.117188 0 L 17.117188 -2.128906 C 22.847656 -2.414062 26.585938 -3.195312 28.339844 -4.476562 C 30.089844 -5.753906 30.96875 -8.523438 30.96875 -12.785156 L 30.96875 -78.554688 C 30.96875 -80.828125 30.683594 -82.554688 30.113281 -83.738281 C 29.546875 -84.921875 28.316406 -85.515625 26.421875 -85.515625 C 25.191406 -85.515625 23.59375 -85.171875 21.628906 -84.484375 C 19.664062 -83.796875 17.828125 -83.078125 16.121094 -82.320312 L 16.121094 -84.308594 L 42.191406 -97.589844 Z M 43.042969 -97.589844 \"/>\n",
       "</symbol>\n",
       "</g>\n",
       "<filter id=\"alpha\" filterUnits=\"objectBoundingBox\" x=\"0%\" y=\"0%\" width=\"100%\" height=\"100%\">\n",
       "  <feColorMatrix type=\"matrix\" in=\"SourceGraphic\" values=\"0 0 0 0 1 0 0 0 0 1 0 0 0 0 1 0 0 0 1 0\"/>\n",
       "</filter>\n",
       "<mask id=\"mask0\">\n",
       "  <g filter=\"url(#alpha)\">\n",
       "<rect x=\"0\" y=\"0\" width=\"1200\" height=\"1200\" style=\"fill:rgb(0%,0%,0%);fill-opacity:0.8;stroke:none;\"/>\n",
       "  </g>\n",
       "</mask>\n",
       "<clipPath id=\"clip2\">\n",
       "  <path d=\"M 690 690 L 895 690 L 895 895 L 690 895 Z M 690 690 \"/>\n",
       "</clipPath>\n",
       "<clipPath id=\"clip3\">\n",
       "  <path d=\"M 88.546875 88.546875 L 1019.457031 88.546875 L 1019.457031 1019.457031 L 88.546875 1019.457031 Z M 88.546875 88.546875 L 242.578125 121.359375 C 242.578125 188.304688 188.304688 242.578125 121.359375 242.578125 C 54.410156 242.578125 0.140625 188.304688 0.140625 121.359375 C 0.140625 54.410156 54.410156 0.140625 121.359375 0.140625 C 188.304688 0.140625 242.578125 54.410156 242.578125 121.359375 Z M 88.546875 88.546875 L 1107.859375 986.640625 C 1107.859375 1053.589844 1053.589844 1107.859375 986.640625 1107.859375 C 919.695312 1107.859375 865.421875 1053.589844 865.421875 986.640625 C 865.421875 919.695312 919.695312 865.421875 986.640625 865.421875 C 1053.589844 865.421875 1107.859375 919.695312 1107.859375 986.640625 Z M 88.546875 88.546875 \"/>\n",
       "</clipPath>\n",
       "<clipPath id=\"clip4\">\n",
       "  <path d=\"M 88 88 L 1020 88 L 1020 1020 L 88 1020 Z M 88 88 \"/>\n",
       "</clipPath>\n",
       "<clipPath id=\"clip5\">\n",
       "  <path d=\"M 88.546875 88.546875 L 1019.457031 88.546875 L 1019.457031 1019.457031 L 88.546875 1019.457031 Z M 88.546875 88.546875 L 242.578125 121.359375 C 242.578125 188.304688 188.304688 242.578125 121.359375 242.578125 C 54.410156 242.578125 0.140625 188.304688 0.140625 121.359375 C 0.140625 54.410156 54.410156 0.140625 121.359375 0.140625 C 188.304688 0.140625 242.578125 54.410156 242.578125 121.359375 Z M 88.546875 88.546875 L 1107.859375 986.640625 C 1107.859375 1053.589844 1053.589844 1107.859375 986.640625 1107.859375 C 919.695312 1107.859375 865.421875 1053.589844 865.421875 986.640625 C 865.421875 919.695312 919.695312 865.421875 986.640625 865.421875 C 1053.589844 865.421875 1107.859375 919.695312 1107.859375 986.640625 Z M 88.546875 88.546875 \"/>\n",
       "</clipPath>\n",
       "<clipPath id=\"clip6\">\n",
       "  <path d=\"M 88.546875 88.546875 L 1019.457031 88.546875 L 1019.457031 1019.457031 L 88.546875 1019.457031 Z M 88.546875 88.546875 L 991.042969 894.070312 C 991.042969 947.628906 947.628906 991.042969 894.070312 991.042969 C 840.511719 991.042969 797.09375 947.628906 797.09375 894.070312 C 797.09375 840.511719 840.511719 797.09375 894.070312 797.09375 C 947.628906 797.09375 991.042969 840.511719 991.042969 894.070312 \"/>\n",
       "</clipPath>\n",
       "<clipPath id=\"clip1\">\n",
       "  <rect x=\"0\" y=\"0\" width=\"1108\" height=\"1108\"/>\n",
       "</clipPath>\n",
       "<g id=\"surface11\" clip-path=\"url(#clip1)\">\n",
       "<g clip-path=\"url(#clip2)\" clip-rule=\"nonzero\">\n",
       "<g clip-path=\"url(#clip3)\" clip-rule=\"evenodd\">\n",
       "<path style=\" stroke:none;fill-rule:evenodd;comp-op:src;clip-to-self:true;fill:rgb(17.96875%,20.3125%,21.09375%);fill-opacity:1;\" d=\"M 894.070312 894.070312 L 690.882812 822.972656 L 811.785156 811.785156 L 822.972656 690.882812 Z M 894.070312 894.070312 \"/>\n",
       "</g>\n",
       "</g>\n",
       "<g clip-path=\"url(#clip4)\" clip-rule=\"nonzero\">\n",
       "<g clip-path=\"url(#clip5)\" clip-rule=\"evenodd\">\n",
       "<g clip-path=\"url(#clip6)\" clip-rule=\"evenodd\">\n",
       "<path style=\"fill:none;stroke-width:0.0280182;stroke-linecap:butt;stroke-linejoin:miter;stroke:rgb(17.96875%,20.3125%,21.09375%);stroke-opacity:1;comp-op:src;clip-to-self:true;stroke-miterlimit:10;\" d=\"M 0.000000375086 0.000000375086 L 1 1 \" transform=\"matrix(865.281899,0,0,865.281899,121.35905,121.35905)\"/>\n",
       "</g>\n",
       "</g>\n",
       "</g>\n",
       "</g>\n",
       "</defs>\n",
       "<g id=\"surface7\">\n",
       "<use xlink:href=\"#surface11\" transform=\"matrix(1,0,0,1,46,46)\" mask=\"url(#mask0)\"/>\n",
       "<path style=\"fill-rule:nonzero;fill:rgb(64.705882%,5.882353%,8.235294%);fill-opacity:0.8;stroke-width:0.0280182;stroke-linecap:butt;stroke-linejoin:miter;stroke:rgb(60%,60%,60%);stroke-opacity:0.8;stroke-miterlimit:10;\" d=\"M 0.140092 0.000000375086 C 0.140092 0.0773686 0.0773686 0.140092 0.000000375086 0.140092 C -0.0773724 0.140092 -0.140091 0.0773686 -0.140091 0.000000375086 C -0.140091 -0.0773724 -0.0773724 -0.140091 0.000000375086 -0.140091 C 0.0773686 -0.140091 0.140092 -0.0773724 0.140092 0.000000375086 Z M 0.140092 0.000000375086 \" transform=\"matrix(865.281899,0,0,865.281899,167.35905,167.35905)\"/>\n",
       "<g style=\"fill:rgb(100%,100%,100%);fill-opacity:0.8;\">\n",
       "  <use xlink:href=\"#glyph0-1\" x=\"133.159863\" y=\"216.89993\"/>\n",
       "</g>\n",
       "<path style=\"fill-rule:nonzero;fill:rgb(64.705882%,5.882353%,8.235294%);fill-opacity:0.8;stroke-width:0.0280182;stroke-linecap:butt;stroke-linejoin:miter;stroke:rgb(60%,60%,60%);stroke-opacity:0.8;stroke-miterlimit:10;\" d=\"M 0.140091 -0.000000375086 C 0.140091 0.0773724 0.0773724 0.140091 -0.000000375086 0.140091 C -0.0773686 0.140091 -0.140092 0.0773724 -0.140092 -0.000000375086 C -0.140092 -0.0773686 -0.0773686 -0.140092 -0.000000375086 -0.140092 C 0.0773724 -0.140092 0.140091 -0.0773686 0.140091 -0.000000375086 Z M 0.140091 -0.000000375086 \" transform=\"matrix(865.281899,0,0,865.281899,1032.64095,1032.64095)\"/>\n",
       "<g style=\"fill:rgb(100%,100%,100%);fill-opacity:0.8;\">\n",
       "  <use xlink:href=\"#glyph0-2\" x=\"995.991353\" y=\"1081.436053\"/>\n",
       "</g>\n",
       "</g>\n",
       "</svg>"
      ],
      "text/plain": [
       "<IPython.core.display.SVG object>"
      ]
     },
     "execution_count": 7,
     "metadata": {},
     "output_type": "execute_result"
    }
   ],
   "source": [
    "from IPython.display import SVG\n",
    "SVG('two-nodes.svg')"
   ]
  }
 ],
 "metadata": {
  "kernelspec": {
   "display_name": "Python 3.11 Kernel",
   "language": "python",
   "name": "python311"
  },
  "language_info": {
   "codemirror_mode": {
    "name": "ipython",
    "version": 3
   },
   "file_extension": ".py",
   "mimetype": "text/x-python",
   "name": "python",
   "nbconvert_exporter": "python",
   "pygments_lexer": "ipython3",
   "version": "3.11.4"
  },
  "latex_envs": {
   "LaTeX_envs_menu_present": true,
   "autoclose": false,
   "autocomplete": true,
   "bibliofile": "biblio.bib",
   "cite_by": "apalike",
   "current_citInitial": 1,
   "eqLabelWithNumbers": true,
   "eqNumInitial": 1,
   "hotkeys": {
    "equation": "Ctrl-E",
    "itemize": "Ctrl-I"
   },
   "labels_anchors": false,
   "latex_user_defs": false,
   "report_style_numbering": false,
   "user_envs_cfg": false
  }
 },
 "nbformat": 4,
 "nbformat_minor": 5
}
